{
 "cells": [
  {
   "cell_type": "code",
   "execution_count": null,
   "id": "a6dd3f94",
   "metadata": {},
   "outputs": [],
   "source": [
    "import matplotlib.pyplot as plt\n",
    "import pandas as pd"
   ]
  },
  {
   "cell_type": "code",
   "execution_count": null,
   "id": "aea9cd09",
   "metadata": {},
   "outputs": [],
   "source": [
    "for n in ['0020', '0040', '0060', '0080', '0100']:\n",
    "  d = pd.read_csv('1d_dam_break_walled_out_h_' + n + '.csv')\n",
    "  plt.plot(d['x'],d['h'], label=n)\n",
    "plt.ylim(-0.1,1.1)"
   ]
  },
  {
   "cell_type": "code",
   "execution_count": null,
   "id": "ccee5990",
   "metadata": {},
   "outputs": [],
   "source": []
  }
 ],
 "metadata": {
  "kernelspec": {
   "display_name": "jupyter",
   "language": "python",
   "name": "python3"
  },
  "language_info": {
   "codemirror_mode": {
    "name": "ipython",
    "version": 3
   },
   "file_extension": ".py",
   "mimetype": "text/x-python",
   "name": "python",
   "nbconvert_exporter": "python",
   "pygments_lexer": "ipython3",
   "version": "3.13.1"
  }
 },
 "nbformat": 4,
 "nbformat_minor": 5
}
